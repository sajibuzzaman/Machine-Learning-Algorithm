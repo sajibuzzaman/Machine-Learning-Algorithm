{
 "metadata": {
  "language_info": {
   "codemirror_mode": {
    "name": "ipython",
    "version": 3
   },
   "file_extension": ".py",
   "mimetype": "text/x-python",
   "name": "python",
   "nbconvert_exporter": "python",
   "pygments_lexer": "ipython3",
   "version": "3.8.5"
  },
  "orig_nbformat": 2,
  "kernelspec": {
   "name": "python385jvsc74a57bd0775c561d6eaf07ed1348dc637b5dd63156d03542865374bbfa2f40f1f3c3dba5",
   "display_name": "Python 3.8.5 64-bit ('base': conda)"
  },
  "metadata": {
   "interpreter": {
    "hash": "775c561d6eaf07ed1348dc637b5dd63156d03542865374bbfa2f40f1f3c3dba5"
   }
  }
 },
 "nbformat": 4,
 "nbformat_minor": 2,
 "cells": [
  {
   "cell_type": "code",
   "execution_count": 2,
   "metadata": {},
   "outputs": [],
   "source": [
    "import pandas as pd\n",
    "import numpy as np\n",
    "import matplotlib.pyplot as plt\n",
    "import seaborn"
   ]
  },
  {
   "cell_type": "code",
   "execution_count": 3,
   "metadata": {},
   "outputs": [],
   "source": [
    "df = pd.read_csv('credit card taiwan svm algorithm.csv')"
   ]
  },
  {
   "cell_type": "code",
   "execution_count": 4,
   "metadata": {},
   "outputs": [
    {
     "output_type": "execute_result",
     "data": {
      "text/plain": [
       "          ID  LIMIT_BAL  SEX  EDUCATION  MARRIAGE   AGE  PAY_0  PAY_2  PAY_3  \\\n",
       "0          1    20000.0    2          2         1  24.0      2      2     -1   \n",
       "1          2   120000.0    2          2         2  26.0     -1      2      0   \n",
       "2          3    90000.0    2          2         2   NaN      0      0      0   \n",
       "3          4    50000.0    2          2         1   NaN      0      0      0   \n",
       "4          5    50000.0    1          2         1  57.0     -1      0     -1   \n",
       "...      ...        ...  ...        ...       ...   ...    ...    ...    ...   \n",
       "29995  29996   220000.0    1          3         1  39.0      0      0      0   \n",
       "29996  29997   150000.0    1          3         2  43.0     -1     -1     -1   \n",
       "29997  29998    30000.0    1          2         2  37.0      4      3      2   \n",
       "29998  29999    80000.0    1          3         1  41.0      1     -1      0   \n",
       "29999  30000    50000.0    1          2         1  46.0      0      0      0   \n",
       "\n",
       "       PAY_4  ...  BILL_AMT4  BILL_AMT5  BILL_AMT6  PAY_AMT1  PAY_AMT2  \\\n",
       "0         -1  ...        0.0        0.0        0.0       0.0     689.0   \n",
       "1          0  ...     3272.0     3455.0     3261.0       0.0    1000.0   \n",
       "2          0  ...    14331.0    14948.0    15549.0    1518.0    1500.0   \n",
       "3          0  ...    28314.0    28959.0    29547.0    2000.0    2018.0   \n",
       "4          0  ...    20940.0    19146.0    19131.0    2000.0   36681.0   \n",
       "...      ...  ...        ...        ...        ...       ...       ...   \n",
       "29995      0  ...    88004.0    31237.0    15980.0    8500.0   20000.0   \n",
       "29996     -1  ...     8979.0     5190.0        0.0    1837.0    3526.0   \n",
       "29997     -1  ...    20878.0    20582.0    19357.0       0.0       0.0   \n",
       "29998      0  ...    52774.0    11855.0    48944.0   85900.0    3409.0   \n",
       "29999      0  ...    36535.0    32428.0    15313.0    2078.0    1800.0   \n",
       "\n",
       "       PAY_AMT3  PAY_AMT4  PAY_AMT5  PAY_AMT6  default.payment.next.month  \n",
       "0           0.0       0.0       0.0       0.0                           1  \n",
       "1        1000.0    1000.0       0.0    2000.0                           1  \n",
       "2        1000.0    1000.0    1000.0    5000.0                           0  \n",
       "3        1200.0    1100.0    1069.0    1000.0                           0  \n",
       "4       10000.0    9000.0     689.0     679.0                           0  \n",
       "...         ...       ...       ...       ...                         ...  \n",
       "29995    5003.0    3047.0    5000.0    1000.0                           0  \n",
       "29996    8998.0     129.0       0.0       0.0                           0  \n",
       "29997   22000.0    4200.0    2000.0    3100.0                           1  \n",
       "29998    1178.0    1926.0   52964.0    1804.0                           1  \n",
       "29999    1430.0    1000.0    1000.0    1000.0                           1  \n",
       "\n",
       "[30000 rows x 25 columns]"
      ],
      "text/html": "<div>\n<style scoped>\n    .dataframe tbody tr th:only-of-type {\n        vertical-align: middle;\n    }\n\n    .dataframe tbody tr th {\n        vertical-align: top;\n    }\n\n    .dataframe thead th {\n        text-align: right;\n    }\n</style>\n<table border=\"1\" class=\"dataframe\">\n  <thead>\n    <tr style=\"text-align: right;\">\n      <th></th>\n      <th>ID</th>\n      <th>LIMIT_BAL</th>\n      <th>SEX</th>\n      <th>EDUCATION</th>\n      <th>MARRIAGE</th>\n      <th>AGE</th>\n      <th>PAY_0</th>\n      <th>PAY_2</th>\n      <th>PAY_3</th>\n      <th>PAY_4</th>\n      <th>...</th>\n      <th>BILL_AMT4</th>\n      <th>BILL_AMT5</th>\n      <th>BILL_AMT6</th>\n      <th>PAY_AMT1</th>\n      <th>PAY_AMT2</th>\n      <th>PAY_AMT3</th>\n      <th>PAY_AMT4</th>\n      <th>PAY_AMT5</th>\n      <th>PAY_AMT6</th>\n      <th>default.payment.next.month</th>\n    </tr>\n  </thead>\n  <tbody>\n    <tr>\n      <th>0</th>\n      <td>1</td>\n      <td>20000.0</td>\n      <td>2</td>\n      <td>2</td>\n      <td>1</td>\n      <td>24.0</td>\n      <td>2</td>\n      <td>2</td>\n      <td>-1</td>\n      <td>-1</td>\n      <td>...</td>\n      <td>0.0</td>\n      <td>0.0</td>\n      <td>0.0</td>\n      <td>0.0</td>\n      <td>689.0</td>\n      <td>0.0</td>\n      <td>0.0</td>\n      <td>0.0</td>\n      <td>0.0</td>\n      <td>1</td>\n    </tr>\n    <tr>\n      <th>1</th>\n      <td>2</td>\n      <td>120000.0</td>\n      <td>2</td>\n      <td>2</td>\n      <td>2</td>\n      <td>26.0</td>\n      <td>-1</td>\n      <td>2</td>\n      <td>0</td>\n      <td>0</td>\n      <td>...</td>\n      <td>3272.0</td>\n      <td>3455.0</td>\n      <td>3261.0</td>\n      <td>0.0</td>\n      <td>1000.0</td>\n      <td>1000.0</td>\n      <td>1000.0</td>\n      <td>0.0</td>\n      <td>2000.0</td>\n      <td>1</td>\n    </tr>\n    <tr>\n      <th>2</th>\n      <td>3</td>\n      <td>90000.0</td>\n      <td>2</td>\n      <td>2</td>\n      <td>2</td>\n      <td>NaN</td>\n      <td>0</td>\n      <td>0</td>\n      <td>0</td>\n      <td>0</td>\n      <td>...</td>\n      <td>14331.0</td>\n      <td>14948.0</td>\n      <td>15549.0</td>\n      <td>1518.0</td>\n      <td>1500.0</td>\n      <td>1000.0</td>\n      <td>1000.0</td>\n      <td>1000.0</td>\n      <td>5000.0</td>\n      <td>0</td>\n    </tr>\n    <tr>\n      <th>3</th>\n      <td>4</td>\n      <td>50000.0</td>\n      <td>2</td>\n      <td>2</td>\n      <td>1</td>\n      <td>NaN</td>\n      <td>0</td>\n      <td>0</td>\n      <td>0</td>\n      <td>0</td>\n      <td>...</td>\n      <td>28314.0</td>\n      <td>28959.0</td>\n      <td>29547.0</td>\n      <td>2000.0</td>\n      <td>2018.0</td>\n      <td>1200.0</td>\n      <td>1100.0</td>\n      <td>1069.0</td>\n      <td>1000.0</td>\n      <td>0</td>\n    </tr>\n    <tr>\n      <th>4</th>\n      <td>5</td>\n      <td>50000.0</td>\n      <td>1</td>\n      <td>2</td>\n      <td>1</td>\n      <td>57.0</td>\n      <td>-1</td>\n      <td>0</td>\n      <td>-1</td>\n      <td>0</td>\n      <td>...</td>\n      <td>20940.0</td>\n      <td>19146.0</td>\n      <td>19131.0</td>\n      <td>2000.0</td>\n      <td>36681.0</td>\n      <td>10000.0</td>\n      <td>9000.0</td>\n      <td>689.0</td>\n      <td>679.0</td>\n      <td>0</td>\n    </tr>\n    <tr>\n      <th>...</th>\n      <td>...</td>\n      <td>...</td>\n      <td>...</td>\n      <td>...</td>\n      <td>...</td>\n      <td>...</td>\n      <td>...</td>\n      <td>...</td>\n      <td>...</td>\n      <td>...</td>\n      <td>...</td>\n      <td>...</td>\n      <td>...</td>\n      <td>...</td>\n      <td>...</td>\n      <td>...</td>\n      <td>...</td>\n      <td>...</td>\n      <td>...</td>\n      <td>...</td>\n      <td>...</td>\n    </tr>\n    <tr>\n      <th>29995</th>\n      <td>29996</td>\n      <td>220000.0</td>\n      <td>1</td>\n      <td>3</td>\n      <td>1</td>\n      <td>39.0</td>\n      <td>0</td>\n      <td>0</td>\n      <td>0</td>\n      <td>0</td>\n      <td>...</td>\n      <td>88004.0</td>\n      <td>31237.0</td>\n      <td>15980.0</td>\n      <td>8500.0</td>\n      <td>20000.0</td>\n      <td>5003.0</td>\n      <td>3047.0</td>\n      <td>5000.0</td>\n      <td>1000.0</td>\n      <td>0</td>\n    </tr>\n    <tr>\n      <th>29996</th>\n      <td>29997</td>\n      <td>150000.0</td>\n      <td>1</td>\n      <td>3</td>\n      <td>2</td>\n      <td>43.0</td>\n      <td>-1</td>\n      <td>-1</td>\n      <td>-1</td>\n      <td>-1</td>\n      <td>...</td>\n      <td>8979.0</td>\n      <td>5190.0</td>\n      <td>0.0</td>\n      <td>1837.0</td>\n      <td>3526.0</td>\n      <td>8998.0</td>\n      <td>129.0</td>\n      <td>0.0</td>\n      <td>0.0</td>\n      <td>0</td>\n    </tr>\n    <tr>\n      <th>29997</th>\n      <td>29998</td>\n      <td>30000.0</td>\n      <td>1</td>\n      <td>2</td>\n      <td>2</td>\n      <td>37.0</td>\n      <td>4</td>\n      <td>3</td>\n      <td>2</td>\n      <td>-1</td>\n      <td>...</td>\n      <td>20878.0</td>\n      <td>20582.0</td>\n      <td>19357.0</td>\n      <td>0.0</td>\n      <td>0.0</td>\n      <td>22000.0</td>\n      <td>4200.0</td>\n      <td>2000.0</td>\n      <td>3100.0</td>\n      <td>1</td>\n    </tr>\n    <tr>\n      <th>29998</th>\n      <td>29999</td>\n      <td>80000.0</td>\n      <td>1</td>\n      <td>3</td>\n      <td>1</td>\n      <td>41.0</td>\n      <td>1</td>\n      <td>-1</td>\n      <td>0</td>\n      <td>0</td>\n      <td>...</td>\n      <td>52774.0</td>\n      <td>11855.0</td>\n      <td>48944.0</td>\n      <td>85900.0</td>\n      <td>3409.0</td>\n      <td>1178.0</td>\n      <td>1926.0</td>\n      <td>52964.0</td>\n      <td>1804.0</td>\n      <td>1</td>\n    </tr>\n    <tr>\n      <th>29999</th>\n      <td>30000</td>\n      <td>50000.0</td>\n      <td>1</td>\n      <td>2</td>\n      <td>1</td>\n      <td>46.0</td>\n      <td>0</td>\n      <td>0</td>\n      <td>0</td>\n      <td>0</td>\n      <td>...</td>\n      <td>36535.0</td>\n      <td>32428.0</td>\n      <td>15313.0</td>\n      <td>2078.0</td>\n      <td>1800.0</td>\n      <td>1430.0</td>\n      <td>1000.0</td>\n      <td>1000.0</td>\n      <td>1000.0</td>\n      <td>1</td>\n    </tr>\n  </tbody>\n</table>\n<p>30000 rows × 25 columns</p>\n</div>"
     },
     "metadata": {},
     "execution_count": 4
    }
   ],
   "source": [
    "df"
   ]
  },
  {
   "cell_type": "code",
   "execution_count": 5,
   "metadata": {},
   "outputs": [
    {
     "output_type": "execute_result",
     "data": {
      "text/plain": [
       "ID                            0\n",
       "LIMIT_BAL                     0\n",
       "SEX                           0\n",
       "EDUCATION                     0\n",
       "MARRIAGE                      0\n",
       "AGE                           2\n",
       "PAY_0                         0\n",
       "PAY_2                         0\n",
       "PAY_3                         0\n",
       "PAY_4                         0\n",
       "PAY_5                         0\n",
       "PAY_6                         0\n",
       "BILL_AMT1                     0\n",
       "BILL_AMT2                     0\n",
       "BILL_AMT3                     0\n",
       "BILL_AMT4                     0\n",
       "BILL_AMT5                     0\n",
       "BILL_AMT6                     0\n",
       "PAY_AMT1                      0\n",
       "PAY_AMT2                      0\n",
       "PAY_AMT3                      0\n",
       "PAY_AMT4                      0\n",
       "PAY_AMT5                      0\n",
       "PAY_AMT6                      0\n",
       "default.payment.next.month    0\n",
       "dtype: int64"
      ]
     },
     "metadata": {},
     "execution_count": 5
    }
   ],
   "source": [
    "df.isnull().sum()"
   ]
  },
  {
   "cell_type": "code",
   "execution_count": 6,
   "metadata": {},
   "outputs": [],
   "source": [
    "handle = df.AGE.mean()"
   ]
  },
  {
   "cell_type": "code",
   "execution_count": 7,
   "metadata": {},
   "outputs": [
    {
     "output_type": "execute_result",
     "data": {
      "text/plain": [
       "35.48549903326889"
      ]
     },
     "metadata": {},
     "execution_count": 7
    }
   ],
   "source": [
    "handle"
   ]
  },
  {
   "cell_type": "code",
   "execution_count": 8,
   "metadata": {},
   "outputs": [],
   "source": [
    "df.AGE = df.AGE.fillna(handle)"
   ]
  },
  {
   "cell_type": "code",
   "execution_count": 9,
   "metadata": {},
   "outputs": [
    {
     "output_type": "execute_result",
     "data": {
      "text/plain": [
       "ID                            0\n",
       "LIMIT_BAL                     0\n",
       "SEX                           0\n",
       "EDUCATION                     0\n",
       "MARRIAGE                      0\n",
       "AGE                           0\n",
       "PAY_0                         0\n",
       "PAY_2                         0\n",
       "PAY_3                         0\n",
       "PAY_4                         0\n",
       "PAY_5                         0\n",
       "PAY_6                         0\n",
       "BILL_AMT1                     0\n",
       "BILL_AMT2                     0\n",
       "BILL_AMT3                     0\n",
       "BILL_AMT4                     0\n",
       "BILL_AMT5                     0\n",
       "BILL_AMT6                     0\n",
       "PAY_AMT1                      0\n",
       "PAY_AMT2                      0\n",
       "PAY_AMT3                      0\n",
       "PAY_AMT4                      0\n",
       "PAY_AMT5                      0\n",
       "PAY_AMT6                      0\n",
       "default.payment.next.month    0\n",
       "dtype: int64"
      ]
     },
     "metadata": {},
     "execution_count": 9
    }
   ],
   "source": [
    "df.isnull().sum()"
   ]
  },
  {
   "cell_type": "code",
   "execution_count": 10,
   "metadata": {},
   "outputs": [
    {
     "output_type": "execute_result",
     "data": {
      "text/plain": [
       "(30000, 25)"
      ]
     },
     "metadata": {},
     "execution_count": 10
    }
   ],
   "source": [
    "df.shape"
   ]
  },
  {
   "source": [
    "# separate x and y"
   ],
   "cell_type": "markdown",
   "metadata": {}
  },
  {
   "cell_type": "code",
   "execution_count": 14,
   "metadata": {},
   "outputs": [],
   "source": [
    "x = df.drop(['default.payment.next.month'], axis=1)\n",
    "y = df['default.payment.next.month']"
   ]
  },
  {
   "cell_type": "code",
   "execution_count": 15,
   "metadata": {},
   "outputs": [
    {
     "output_type": "execute_result",
     "data": {
      "text/plain": [
       "          ID  LIMIT_BAL  SEX  EDUCATION  MARRIAGE        AGE  PAY_0  PAY_2  \\\n",
       "0          1    20000.0    2          2         1  24.000000      2      2   \n",
       "1          2   120000.0    2          2         2  26.000000     -1      2   \n",
       "2          3    90000.0    2          2         2  35.485499      0      0   \n",
       "3          4    50000.0    2          2         1  35.485499      0      0   \n",
       "4          5    50000.0    1          2         1  57.000000     -1      0   \n",
       "...      ...        ...  ...        ...       ...        ...    ...    ...   \n",
       "29995  29996   220000.0    1          3         1  39.000000      0      0   \n",
       "29996  29997   150000.0    1          3         2  43.000000     -1     -1   \n",
       "29997  29998    30000.0    1          2         2  37.000000      4      3   \n",
       "29998  29999    80000.0    1          3         1  41.000000      1     -1   \n",
       "29999  30000    50000.0    1          2         1  46.000000      0      0   \n",
       "\n",
       "       PAY_3  PAY_4  ...  BILL_AMT3  BILL_AMT4  BILL_AMT5  BILL_AMT6  \\\n",
       "0         -1     -1  ...      689.0        0.0        0.0        0.0   \n",
       "1          0      0  ...     2682.0     3272.0     3455.0     3261.0   \n",
       "2          0      0  ...    13559.0    14331.0    14948.0    15549.0   \n",
       "3          0      0  ...    49291.0    28314.0    28959.0    29547.0   \n",
       "4         -1      0  ...    35835.0    20940.0    19146.0    19131.0   \n",
       "...      ...    ...  ...        ...        ...        ...        ...   \n",
       "29995      0      0  ...   208365.0    88004.0    31237.0    15980.0   \n",
       "29996     -1     -1  ...     3502.0     8979.0     5190.0        0.0   \n",
       "29997      2     -1  ...     2758.0    20878.0    20582.0    19357.0   \n",
       "29998      0      0  ...    76304.0    52774.0    11855.0    48944.0   \n",
       "29999      0      0  ...    49764.0    36535.0    32428.0    15313.0   \n",
       "\n",
       "       PAY_AMT1  PAY_AMT2  PAY_AMT3  PAY_AMT4  PAY_AMT5  PAY_AMT6  \n",
       "0           0.0     689.0       0.0       0.0       0.0       0.0  \n",
       "1           0.0    1000.0    1000.0    1000.0       0.0    2000.0  \n",
       "2        1518.0    1500.0    1000.0    1000.0    1000.0    5000.0  \n",
       "3        2000.0    2018.0    1200.0    1100.0    1069.0    1000.0  \n",
       "4        2000.0   36681.0   10000.0    9000.0     689.0     679.0  \n",
       "...         ...       ...       ...       ...       ...       ...  \n",
       "29995    8500.0   20000.0    5003.0    3047.0    5000.0    1000.0  \n",
       "29996    1837.0    3526.0    8998.0     129.0       0.0       0.0  \n",
       "29997       0.0       0.0   22000.0    4200.0    2000.0    3100.0  \n",
       "29998   85900.0    3409.0    1178.0    1926.0   52964.0    1804.0  \n",
       "29999    2078.0    1800.0    1430.0    1000.0    1000.0    1000.0  \n",
       "\n",
       "[30000 rows x 24 columns]"
      ],
      "text/html": "<div>\n<style scoped>\n    .dataframe tbody tr th:only-of-type {\n        vertical-align: middle;\n    }\n\n    .dataframe tbody tr th {\n        vertical-align: top;\n    }\n\n    .dataframe thead th {\n        text-align: right;\n    }\n</style>\n<table border=\"1\" class=\"dataframe\">\n  <thead>\n    <tr style=\"text-align: right;\">\n      <th></th>\n      <th>ID</th>\n      <th>LIMIT_BAL</th>\n      <th>SEX</th>\n      <th>EDUCATION</th>\n      <th>MARRIAGE</th>\n      <th>AGE</th>\n      <th>PAY_0</th>\n      <th>PAY_2</th>\n      <th>PAY_3</th>\n      <th>PAY_4</th>\n      <th>...</th>\n      <th>BILL_AMT3</th>\n      <th>BILL_AMT4</th>\n      <th>BILL_AMT5</th>\n      <th>BILL_AMT6</th>\n      <th>PAY_AMT1</th>\n      <th>PAY_AMT2</th>\n      <th>PAY_AMT3</th>\n      <th>PAY_AMT4</th>\n      <th>PAY_AMT5</th>\n      <th>PAY_AMT6</th>\n    </tr>\n  </thead>\n  <tbody>\n    <tr>\n      <th>0</th>\n      <td>1</td>\n      <td>20000.0</td>\n      <td>2</td>\n      <td>2</td>\n      <td>1</td>\n      <td>24.000000</td>\n      <td>2</td>\n      <td>2</td>\n      <td>-1</td>\n      <td>-1</td>\n      <td>...</td>\n      <td>689.0</td>\n      <td>0.0</td>\n      <td>0.0</td>\n      <td>0.0</td>\n      <td>0.0</td>\n      <td>689.0</td>\n      <td>0.0</td>\n      <td>0.0</td>\n      <td>0.0</td>\n      <td>0.0</td>\n    </tr>\n    <tr>\n      <th>1</th>\n      <td>2</td>\n      <td>120000.0</td>\n      <td>2</td>\n      <td>2</td>\n      <td>2</td>\n      <td>26.000000</td>\n      <td>-1</td>\n      <td>2</td>\n      <td>0</td>\n      <td>0</td>\n      <td>...</td>\n      <td>2682.0</td>\n      <td>3272.0</td>\n      <td>3455.0</td>\n      <td>3261.0</td>\n      <td>0.0</td>\n      <td>1000.0</td>\n      <td>1000.0</td>\n      <td>1000.0</td>\n      <td>0.0</td>\n      <td>2000.0</td>\n    </tr>\n    <tr>\n      <th>2</th>\n      <td>3</td>\n      <td>90000.0</td>\n      <td>2</td>\n      <td>2</td>\n      <td>2</td>\n      <td>35.485499</td>\n      <td>0</td>\n      <td>0</td>\n      <td>0</td>\n      <td>0</td>\n      <td>...</td>\n      <td>13559.0</td>\n      <td>14331.0</td>\n      <td>14948.0</td>\n      <td>15549.0</td>\n      <td>1518.0</td>\n      <td>1500.0</td>\n      <td>1000.0</td>\n      <td>1000.0</td>\n      <td>1000.0</td>\n      <td>5000.0</td>\n    </tr>\n    <tr>\n      <th>3</th>\n      <td>4</td>\n      <td>50000.0</td>\n      <td>2</td>\n      <td>2</td>\n      <td>1</td>\n      <td>35.485499</td>\n      <td>0</td>\n      <td>0</td>\n      <td>0</td>\n      <td>0</td>\n      <td>...</td>\n      <td>49291.0</td>\n      <td>28314.0</td>\n      <td>28959.0</td>\n      <td>29547.0</td>\n      <td>2000.0</td>\n      <td>2018.0</td>\n      <td>1200.0</td>\n      <td>1100.0</td>\n      <td>1069.0</td>\n      <td>1000.0</td>\n    </tr>\n    <tr>\n      <th>4</th>\n      <td>5</td>\n      <td>50000.0</td>\n      <td>1</td>\n      <td>2</td>\n      <td>1</td>\n      <td>57.000000</td>\n      <td>-1</td>\n      <td>0</td>\n      <td>-1</td>\n      <td>0</td>\n      <td>...</td>\n      <td>35835.0</td>\n      <td>20940.0</td>\n      <td>19146.0</td>\n      <td>19131.0</td>\n      <td>2000.0</td>\n      <td>36681.0</td>\n      <td>10000.0</td>\n      <td>9000.0</td>\n      <td>689.0</td>\n      <td>679.0</td>\n    </tr>\n    <tr>\n      <th>...</th>\n      <td>...</td>\n      <td>...</td>\n      <td>...</td>\n      <td>...</td>\n      <td>...</td>\n      <td>...</td>\n      <td>...</td>\n      <td>...</td>\n      <td>...</td>\n      <td>...</td>\n      <td>...</td>\n      <td>...</td>\n      <td>...</td>\n      <td>...</td>\n      <td>...</td>\n      <td>...</td>\n      <td>...</td>\n      <td>...</td>\n      <td>...</td>\n      <td>...</td>\n      <td>...</td>\n    </tr>\n    <tr>\n      <th>29995</th>\n      <td>29996</td>\n      <td>220000.0</td>\n      <td>1</td>\n      <td>3</td>\n      <td>1</td>\n      <td>39.000000</td>\n      <td>0</td>\n      <td>0</td>\n      <td>0</td>\n      <td>0</td>\n      <td>...</td>\n      <td>208365.0</td>\n      <td>88004.0</td>\n      <td>31237.0</td>\n      <td>15980.0</td>\n      <td>8500.0</td>\n      <td>20000.0</td>\n      <td>5003.0</td>\n      <td>3047.0</td>\n      <td>5000.0</td>\n      <td>1000.0</td>\n    </tr>\n    <tr>\n      <th>29996</th>\n      <td>29997</td>\n      <td>150000.0</td>\n      <td>1</td>\n      <td>3</td>\n      <td>2</td>\n      <td>43.000000</td>\n      <td>-1</td>\n      <td>-1</td>\n      <td>-1</td>\n      <td>-1</td>\n      <td>...</td>\n      <td>3502.0</td>\n      <td>8979.0</td>\n      <td>5190.0</td>\n      <td>0.0</td>\n      <td>1837.0</td>\n      <td>3526.0</td>\n      <td>8998.0</td>\n      <td>129.0</td>\n      <td>0.0</td>\n      <td>0.0</td>\n    </tr>\n    <tr>\n      <th>29997</th>\n      <td>29998</td>\n      <td>30000.0</td>\n      <td>1</td>\n      <td>2</td>\n      <td>2</td>\n      <td>37.000000</td>\n      <td>4</td>\n      <td>3</td>\n      <td>2</td>\n      <td>-1</td>\n      <td>...</td>\n      <td>2758.0</td>\n      <td>20878.0</td>\n      <td>20582.0</td>\n      <td>19357.0</td>\n      <td>0.0</td>\n      <td>0.0</td>\n      <td>22000.0</td>\n      <td>4200.0</td>\n      <td>2000.0</td>\n      <td>3100.0</td>\n    </tr>\n    <tr>\n      <th>29998</th>\n      <td>29999</td>\n      <td>80000.0</td>\n      <td>1</td>\n      <td>3</td>\n      <td>1</td>\n      <td>41.000000</td>\n      <td>1</td>\n      <td>-1</td>\n      <td>0</td>\n      <td>0</td>\n      <td>...</td>\n      <td>76304.0</td>\n      <td>52774.0</td>\n      <td>11855.0</td>\n      <td>48944.0</td>\n      <td>85900.0</td>\n      <td>3409.0</td>\n      <td>1178.0</td>\n      <td>1926.0</td>\n      <td>52964.0</td>\n      <td>1804.0</td>\n    </tr>\n    <tr>\n      <th>29999</th>\n      <td>30000</td>\n      <td>50000.0</td>\n      <td>1</td>\n      <td>2</td>\n      <td>1</td>\n      <td>46.000000</td>\n      <td>0</td>\n      <td>0</td>\n      <td>0</td>\n      <td>0</td>\n      <td>...</td>\n      <td>49764.0</td>\n      <td>36535.0</td>\n      <td>32428.0</td>\n      <td>15313.0</td>\n      <td>2078.0</td>\n      <td>1800.0</td>\n      <td>1430.0</td>\n      <td>1000.0</td>\n      <td>1000.0</td>\n      <td>1000.0</td>\n    </tr>\n  </tbody>\n</table>\n<p>30000 rows × 24 columns</p>\n</div>"
     },
     "metadata": {},
     "execution_count": 15
    }
   ],
   "source": [
    "x"
   ]
  },
  {
   "cell_type": "code",
   "execution_count": 16,
   "metadata": {},
   "outputs": [
    {
     "output_type": "execute_result",
     "data": {
      "text/plain": [
       "0        1\n",
       "1        1\n",
       "2        0\n",
       "3        0\n",
       "4        0\n",
       "        ..\n",
       "29995    0\n",
       "29996    0\n",
       "29997    1\n",
       "29998    1\n",
       "29999    1\n",
       "Name: default.payment.next.month, Length: 30000, dtype: int64"
      ]
     },
     "metadata": {},
     "execution_count": 16
    }
   ],
   "source": [
    "y"
   ]
  },
  {
   "source": [
    "# Split train and test"
   ],
   "cell_type": "markdown",
   "metadata": {}
  },
  {
   "cell_type": "code",
   "execution_count": 18,
   "metadata": {},
   "outputs": [],
   "source": [
    "from sklearn.model_selection import train_test_split"
   ]
  },
  {
   "cell_type": "code",
   "execution_count": 19,
   "metadata": {},
   "outputs": [],
   "source": [
    "xtrain, xtest, ytrain, ytest = train_test_split(x, y, test_size=.25, random_state=1)"
   ]
  },
  {
   "cell_type": "code",
   "execution_count": 20,
   "metadata": {},
   "outputs": [
    {
     "output_type": "execute_result",
     "data": {
      "text/plain": [
       "          ID  LIMIT_BAL  SEX  EDUCATION  MARRIAGE   AGE  PAY_0  PAY_2  PAY_3  \\\n",
       "10747  10748   310000.0    1          3         1  32.0      0      0      0   \n",
       "12573  12574    10000.0    2          3         1  49.0     -1     -1     -2   \n",
       "29676  29677    50000.0    1          2         1  28.0     -1     -1     -1   \n",
       "8856    8857    80000.0    2          3         1  52.0      2      2      3   \n",
       "21098  21099   270000.0    1          1         2  34.0      1      2      0   \n",
       "...      ...        ...  ...        ...       ...   ...    ...    ...    ...   \n",
       "29317  29318    30000.0    1          3         2  26.0      0      0      0   \n",
       "18629  18630    50000.0    2          1         2  26.0      0      0      0   \n",
       "15329  15330   390000.0    2          1         2  33.0     -2     -2     -2   \n",
       "14587  14588   130000.0    1          3         3  40.0      2      0      0   \n",
       "15011  15012    50000.0    1          2         1  34.0      1      2      0   \n",
       "\n",
       "       PAY_4  ...  BILL_AMT3  BILL_AMT4  BILL_AMT5  BILL_AMT6  PAY_AMT1  \\\n",
       "10747      0  ...   110375.0    84373.0    57779.0    14163.0    8295.0   \n",
       "12573     -1  ...     -748.0     1690.0     1138.0      930.0       0.0   \n",
       "29676      0  ...    46257.0    45975.0     1300.0    43987.0       0.0   \n",
       "8856       3  ...    40101.0    40748.0    39816.0    40607.0    3700.0   \n",
       "21098      0  ...    20924.0    22448.0    15490.0    17343.0       0.0   \n",
       "...      ...  ...        ...        ...        ...        ...       ...   \n",
       "29317      0  ...    25791.0    18972.0    28051.0    20782.0    2000.0   \n",
       "18629      0  ...    18911.0    20090.0    20334.0    20856.0    1600.0   \n",
       "15329     -2  ...        0.0        0.0     1560.0     4386.0    1017.0   \n",
       "14587      0  ...    84822.0    85970.0    86644.0    87576.0    3515.0   \n",
       "15011      0  ...    47992.0    49278.0    28086.0    30196.0       0.0   \n",
       "\n",
       "       PAY_AMT2  PAY_AMT3  PAY_AMT4  PAY_AMT5  PAY_AMT6  \n",
       "10747    6000.0    4000.0    3000.0    1000.0    2000.0  \n",
       "12573       0.0    2828.0       0.0     182.0       0.0  \n",
       "29676   46257.0    2200.0    1300.0   43987.0    1386.0  \n",
       "8856     1600.0    1600.0       0.0    1600.0    1600.0  \n",
       "21098    4000.0    2000.0       0.0    2000.0    2000.0  \n",
       "...         ...       ...       ...       ...       ...  \n",
       "29317    2000.0    1600.0   10000.0    2140.0       0.0  \n",
       "18629    1700.0    1800.0     875.0    1000.0    4700.0  \n",
       "15329       0.0       0.0    1560.0    4386.0   12000.0  \n",
       "14587    3107.0    5003.0    3203.0    3456.0    4000.0  \n",
       "15011    2500.0    3500.0    1000.0    3397.0       0.0  \n",
       "\n",
       "[7500 rows x 24 columns]"
      ],
      "text/html": "<div>\n<style scoped>\n    .dataframe tbody tr th:only-of-type {\n        vertical-align: middle;\n    }\n\n    .dataframe tbody tr th {\n        vertical-align: top;\n    }\n\n    .dataframe thead th {\n        text-align: right;\n    }\n</style>\n<table border=\"1\" class=\"dataframe\">\n  <thead>\n    <tr style=\"text-align: right;\">\n      <th></th>\n      <th>ID</th>\n      <th>LIMIT_BAL</th>\n      <th>SEX</th>\n      <th>EDUCATION</th>\n      <th>MARRIAGE</th>\n      <th>AGE</th>\n      <th>PAY_0</th>\n      <th>PAY_2</th>\n      <th>PAY_3</th>\n      <th>PAY_4</th>\n      <th>...</th>\n      <th>BILL_AMT3</th>\n      <th>BILL_AMT4</th>\n      <th>BILL_AMT5</th>\n      <th>BILL_AMT6</th>\n      <th>PAY_AMT1</th>\n      <th>PAY_AMT2</th>\n      <th>PAY_AMT3</th>\n      <th>PAY_AMT4</th>\n      <th>PAY_AMT5</th>\n      <th>PAY_AMT6</th>\n    </tr>\n  </thead>\n  <tbody>\n    <tr>\n      <th>10747</th>\n      <td>10748</td>\n      <td>310000.0</td>\n      <td>1</td>\n      <td>3</td>\n      <td>1</td>\n      <td>32.0</td>\n      <td>0</td>\n      <td>0</td>\n      <td>0</td>\n      <td>0</td>\n      <td>...</td>\n      <td>110375.0</td>\n      <td>84373.0</td>\n      <td>57779.0</td>\n      <td>14163.0</td>\n      <td>8295.0</td>\n      <td>6000.0</td>\n      <td>4000.0</td>\n      <td>3000.0</td>\n      <td>1000.0</td>\n      <td>2000.0</td>\n    </tr>\n    <tr>\n      <th>12573</th>\n      <td>12574</td>\n      <td>10000.0</td>\n      <td>2</td>\n      <td>3</td>\n      <td>1</td>\n      <td>49.0</td>\n      <td>-1</td>\n      <td>-1</td>\n      <td>-2</td>\n      <td>-1</td>\n      <td>...</td>\n      <td>-748.0</td>\n      <td>1690.0</td>\n      <td>1138.0</td>\n      <td>930.0</td>\n      <td>0.0</td>\n      <td>0.0</td>\n      <td>2828.0</td>\n      <td>0.0</td>\n      <td>182.0</td>\n      <td>0.0</td>\n    </tr>\n    <tr>\n      <th>29676</th>\n      <td>29677</td>\n      <td>50000.0</td>\n      <td>1</td>\n      <td>2</td>\n      <td>1</td>\n      <td>28.0</td>\n      <td>-1</td>\n      <td>-1</td>\n      <td>-1</td>\n      <td>0</td>\n      <td>...</td>\n      <td>46257.0</td>\n      <td>45975.0</td>\n      <td>1300.0</td>\n      <td>43987.0</td>\n      <td>0.0</td>\n      <td>46257.0</td>\n      <td>2200.0</td>\n      <td>1300.0</td>\n      <td>43987.0</td>\n      <td>1386.0</td>\n    </tr>\n    <tr>\n      <th>8856</th>\n      <td>8857</td>\n      <td>80000.0</td>\n      <td>2</td>\n      <td>3</td>\n      <td>1</td>\n      <td>52.0</td>\n      <td>2</td>\n      <td>2</td>\n      <td>3</td>\n      <td>3</td>\n      <td>...</td>\n      <td>40101.0</td>\n      <td>40748.0</td>\n      <td>39816.0</td>\n      <td>40607.0</td>\n      <td>3700.0</td>\n      <td>1600.0</td>\n      <td>1600.0</td>\n      <td>0.0</td>\n      <td>1600.0</td>\n      <td>1600.0</td>\n    </tr>\n    <tr>\n      <th>21098</th>\n      <td>21099</td>\n      <td>270000.0</td>\n      <td>1</td>\n      <td>1</td>\n      <td>2</td>\n      <td>34.0</td>\n      <td>1</td>\n      <td>2</td>\n      <td>0</td>\n      <td>0</td>\n      <td>...</td>\n      <td>20924.0</td>\n      <td>22448.0</td>\n      <td>15490.0</td>\n      <td>17343.0</td>\n      <td>0.0</td>\n      <td>4000.0</td>\n      <td>2000.0</td>\n      <td>0.0</td>\n      <td>2000.0</td>\n      <td>2000.0</td>\n    </tr>\n    <tr>\n      <th>...</th>\n      <td>...</td>\n      <td>...</td>\n      <td>...</td>\n      <td>...</td>\n      <td>...</td>\n      <td>...</td>\n      <td>...</td>\n      <td>...</td>\n      <td>...</td>\n      <td>...</td>\n      <td>...</td>\n      <td>...</td>\n      <td>...</td>\n      <td>...</td>\n      <td>...</td>\n      <td>...</td>\n      <td>...</td>\n      <td>...</td>\n      <td>...</td>\n      <td>...</td>\n      <td>...</td>\n    </tr>\n    <tr>\n      <th>29317</th>\n      <td>29318</td>\n      <td>30000.0</td>\n      <td>1</td>\n      <td>3</td>\n      <td>2</td>\n      <td>26.0</td>\n      <td>0</td>\n      <td>0</td>\n      <td>0</td>\n      <td>0</td>\n      <td>...</td>\n      <td>25791.0</td>\n      <td>18972.0</td>\n      <td>28051.0</td>\n      <td>20782.0</td>\n      <td>2000.0</td>\n      <td>2000.0</td>\n      <td>1600.0</td>\n      <td>10000.0</td>\n      <td>2140.0</td>\n      <td>0.0</td>\n    </tr>\n    <tr>\n      <th>18629</th>\n      <td>18630</td>\n      <td>50000.0</td>\n      <td>2</td>\n      <td>1</td>\n      <td>2</td>\n      <td>26.0</td>\n      <td>0</td>\n      <td>0</td>\n      <td>0</td>\n      <td>0</td>\n      <td>...</td>\n      <td>18911.0</td>\n      <td>20090.0</td>\n      <td>20334.0</td>\n      <td>20856.0</td>\n      <td>1600.0</td>\n      <td>1700.0</td>\n      <td>1800.0</td>\n      <td>875.0</td>\n      <td>1000.0</td>\n      <td>4700.0</td>\n    </tr>\n    <tr>\n      <th>15329</th>\n      <td>15330</td>\n      <td>390000.0</td>\n      <td>2</td>\n      <td>1</td>\n      <td>2</td>\n      <td>33.0</td>\n      <td>-2</td>\n      <td>-2</td>\n      <td>-2</td>\n      <td>-2</td>\n      <td>...</td>\n      <td>0.0</td>\n      <td>0.0</td>\n      <td>1560.0</td>\n      <td>4386.0</td>\n      <td>1017.0</td>\n      <td>0.0</td>\n      <td>0.0</td>\n      <td>1560.0</td>\n      <td>4386.0</td>\n      <td>12000.0</td>\n    </tr>\n    <tr>\n      <th>14587</th>\n      <td>14588</td>\n      <td>130000.0</td>\n      <td>1</td>\n      <td>3</td>\n      <td>3</td>\n      <td>40.0</td>\n      <td>2</td>\n      <td>0</td>\n      <td>0</td>\n      <td>0</td>\n      <td>...</td>\n      <td>84822.0</td>\n      <td>85970.0</td>\n      <td>86644.0</td>\n      <td>87576.0</td>\n      <td>3515.0</td>\n      <td>3107.0</td>\n      <td>5003.0</td>\n      <td>3203.0</td>\n      <td>3456.0</td>\n      <td>4000.0</td>\n    </tr>\n    <tr>\n      <th>15011</th>\n      <td>15012</td>\n      <td>50000.0</td>\n      <td>1</td>\n      <td>2</td>\n      <td>1</td>\n      <td>34.0</td>\n      <td>1</td>\n      <td>2</td>\n      <td>0</td>\n      <td>0</td>\n      <td>...</td>\n      <td>47992.0</td>\n      <td>49278.0</td>\n      <td>28086.0</td>\n      <td>30196.0</td>\n      <td>0.0</td>\n      <td>2500.0</td>\n      <td>3500.0</td>\n      <td>1000.0</td>\n      <td>3397.0</td>\n      <td>0.0</td>\n    </tr>\n  </tbody>\n</table>\n<p>7500 rows × 24 columns</p>\n</div>"
     },
     "metadata": {},
     "execution_count": 20
    }
   ],
   "source": [
    "xtest"
   ]
  },
  {
   "source": [
    "# SVM"
   ],
   "cell_type": "markdown",
   "metadata": {}
  },
  {
   "cell_type": "code",
   "execution_count": 23,
   "metadata": {},
   "outputs": [],
   "source": [
    "from sklearn.svm import SVC"
   ]
  },
  {
   "cell_type": "code",
   "execution_count": 24,
   "metadata": {},
   "outputs": [],
   "source": [
    "model = SVC()"
   ]
  },
  {
   "cell_type": "code",
   "execution_count": 25,
   "metadata": {},
   "outputs": [
    {
     "output_type": "execute_result",
     "data": {
      "text/plain": [
       "SVC()"
      ]
     },
     "metadata": {},
     "execution_count": 25
    }
   ],
   "source": [
    "model.fit(xtrain,ytrain)"
   ]
  },
  {
   "cell_type": "code",
   "execution_count": 26,
   "metadata": {},
   "outputs": [
    {
     "output_type": "execute_result",
     "data": {
      "text/plain": [
       "0.7776"
      ]
     },
     "metadata": {},
     "execution_count": 26
    }
   ],
   "source": [
    "model.score(xtest,ytest)"
   ]
  },
  {
   "source": [
    "# Random Forests Classifier"
   ],
   "cell_type": "markdown",
   "metadata": {}
  },
  {
   "cell_type": "code",
   "execution_count": 29,
   "metadata": {},
   "outputs": [],
   "source": [
    "from sklearn.ensemble import RandomForestClassifier"
   ]
  },
  {
   "cell_type": "code",
   "execution_count": 30,
   "metadata": {},
   "outputs": [],
   "source": [
    "Rclf = RandomForestClassifier()"
   ]
  },
  {
   "cell_type": "code",
   "execution_count": 31,
   "metadata": {},
   "outputs": [
    {
     "output_type": "execute_result",
     "data": {
      "text/plain": [
       "RandomForestClassifier()"
      ]
     },
     "metadata": {},
     "execution_count": 31
    }
   ],
   "source": [
    "Rclf.fit(xtrain,ytrain)"
   ]
  },
  {
   "cell_type": "code",
   "execution_count": 32,
   "metadata": {},
   "outputs": [
    {
     "output_type": "execute_result",
     "data": {
      "text/plain": [
       "0.8154666666666667"
      ]
     },
     "metadata": {},
     "execution_count": 32
    }
   ],
   "source": [
    "Rclf.score(xtest,ytest)"
   ]
  },
  {
   "source": [
    "# Decision Tree Classifier"
   ],
   "cell_type": "markdown",
   "metadata": {}
  },
  {
   "cell_type": "code",
   "execution_count": 34,
   "metadata": {},
   "outputs": [],
   "source": [
    "from sklearn.tree import DecisionTreeClassifier"
   ]
  },
  {
   "cell_type": "code",
   "execution_count": 35,
   "metadata": {},
   "outputs": [],
   "source": [
    "Dclf = DecisionTreeClassifier()"
   ]
  },
  {
   "cell_type": "code",
   "execution_count": 36,
   "metadata": {},
   "outputs": [
    {
     "output_type": "execute_result",
     "data": {
      "text/plain": [
       "DecisionTreeClassifier()"
      ]
     },
     "metadata": {},
     "execution_count": 36
    }
   ],
   "source": [
    "Dclf.fit(xtrain,ytrain)"
   ]
  },
  {
   "cell_type": "code",
   "execution_count": 37,
   "metadata": {},
   "outputs": [
    {
     "output_type": "execute_result",
     "data": {
      "text/plain": [
       "0.7201333333333333"
      ]
     },
     "metadata": {},
     "execution_count": 37
    }
   ],
   "source": [
    "Dclf.score(xtest,ytest)"
   ]
  },
  {
   "cell_type": "code",
   "execution_count": null,
   "metadata": {},
   "outputs": [],
   "source": []
  }
 ]
}