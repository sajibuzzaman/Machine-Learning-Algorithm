{
 "metadata": {
  "language_info": {
   "codemirror_mode": {
    "name": "ipython",
    "version": 3
   },
   "file_extension": ".py",
   "mimetype": "text/x-python",
   "name": "python",
   "nbconvert_exporter": "python",
   "pygments_lexer": "ipython3",
   "version": "3.8.5"
  },
  "orig_nbformat": 2,
  "kernelspec": {
   "name": "python385jvsc74a57bd0775c561d6eaf07ed1348dc637b5dd63156d03542865374bbfa2f40f1f3c3dba5",
   "display_name": "Python 3.8.5 64-bit ('base': conda)"
  },
  "metadata": {
   "interpreter": {
    "hash": "775c561d6eaf07ed1348dc637b5dd63156d03542865374bbfa2f40f1f3c3dba5"
   }
  }
 },
 "nbformat": 4,
 "nbformat_minor": 2,
 "cells": [
  {
   "cell_type": "code",
   "execution_count": 3,
   "metadata": {},
   "outputs": [],
   "source": [
    "import pandas as pd\n",
    "from sklearn import tree"
   ]
  },
  {
   "cell_type": "code",
   "execution_count": 4,
   "metadata": {},
   "outputs": [],
   "source": [
    "df = pd.read_csv('male female.csv')"
   ]
  },
  {
   "cell_type": "code",
   "execution_count": 5,
   "metadata": {},
   "outputs": [
    {
     "output_type": "execute_result",
     "data": {
      "text/plain": [
       "   height  weight  shoe size  gender\n",
       "0     181      80         44    male\n",
       "1     177      70         43  female\n",
       "2     160      60         38  female\n",
       "3     154      54         37  female\n",
       "4     166      65         40    male\n",
       "5     190      90         47    male\n",
       "6     175      64         39    male\n",
       "7     171      75         42  female\n",
       "8     185      85         43  female\n",
       "9     169      71         42    male"
      ],
      "text/html": "<div>\n<style scoped>\n    .dataframe tbody tr th:only-of-type {\n        vertical-align: middle;\n    }\n\n    .dataframe tbody tr th {\n        vertical-align: top;\n    }\n\n    .dataframe thead th {\n        text-align: right;\n    }\n</style>\n<table border=\"1\" class=\"dataframe\">\n  <thead>\n    <tr style=\"text-align: right;\">\n      <th></th>\n      <th>height</th>\n      <th>weight</th>\n      <th>shoe size</th>\n      <th>gender</th>\n    </tr>\n  </thead>\n  <tbody>\n    <tr>\n      <th>0</th>\n      <td>181</td>\n      <td>80</td>\n      <td>44</td>\n      <td>male</td>\n    </tr>\n    <tr>\n      <th>1</th>\n      <td>177</td>\n      <td>70</td>\n      <td>43</td>\n      <td>female</td>\n    </tr>\n    <tr>\n      <th>2</th>\n      <td>160</td>\n      <td>60</td>\n      <td>38</td>\n      <td>female</td>\n    </tr>\n    <tr>\n      <th>3</th>\n      <td>154</td>\n      <td>54</td>\n      <td>37</td>\n      <td>female</td>\n    </tr>\n    <tr>\n      <th>4</th>\n      <td>166</td>\n      <td>65</td>\n      <td>40</td>\n      <td>male</td>\n    </tr>\n    <tr>\n      <th>5</th>\n      <td>190</td>\n      <td>90</td>\n      <td>47</td>\n      <td>male</td>\n    </tr>\n    <tr>\n      <th>6</th>\n      <td>175</td>\n      <td>64</td>\n      <td>39</td>\n      <td>male</td>\n    </tr>\n    <tr>\n      <th>7</th>\n      <td>171</td>\n      <td>75</td>\n      <td>42</td>\n      <td>female</td>\n    </tr>\n    <tr>\n      <th>8</th>\n      <td>185</td>\n      <td>85</td>\n      <td>43</td>\n      <td>female</td>\n    </tr>\n    <tr>\n      <th>9</th>\n      <td>169</td>\n      <td>71</td>\n      <td>42</td>\n      <td>male</td>\n    </tr>\n  </tbody>\n</table>\n</div>"
     },
     "metadata": {},
     "execution_count": 5
    }
   ],
   "source": [
    "df"
   ]
  },
  {
   "cell_type": "code",
   "execution_count": 18,
   "metadata": {},
   "outputs": [],
   "source": [
    "x = df.iloc[:,:-1]"
   ]
  },
  {
   "cell_type": "code",
   "execution_count": 19,
   "metadata": {},
   "outputs": [
    {
     "output_type": "execute_result",
     "data": {
      "text/plain": [
       "   height  weight  shoe size\n",
       "0     181      80         44\n",
       "1     177      70         43\n",
       "2     160      60         38\n",
       "3     154      54         37\n",
       "4     166      65         40\n",
       "5     190      90         47\n",
       "6     175      64         39\n",
       "7     171      75         42\n",
       "8     185      85         43\n",
       "9     169      71         42"
      ],
      "text/html": "<div>\n<style scoped>\n    .dataframe tbody tr th:only-of-type {\n        vertical-align: middle;\n    }\n\n    .dataframe tbody tr th {\n        vertical-align: top;\n    }\n\n    .dataframe thead th {\n        text-align: right;\n    }\n</style>\n<table border=\"1\" class=\"dataframe\">\n  <thead>\n    <tr style=\"text-align: right;\">\n      <th></th>\n      <th>height</th>\n      <th>weight</th>\n      <th>shoe size</th>\n    </tr>\n  </thead>\n  <tbody>\n    <tr>\n      <th>0</th>\n      <td>181</td>\n      <td>80</td>\n      <td>44</td>\n    </tr>\n    <tr>\n      <th>1</th>\n      <td>177</td>\n      <td>70</td>\n      <td>43</td>\n    </tr>\n    <tr>\n      <th>2</th>\n      <td>160</td>\n      <td>60</td>\n      <td>38</td>\n    </tr>\n    <tr>\n      <th>3</th>\n      <td>154</td>\n      <td>54</td>\n      <td>37</td>\n    </tr>\n    <tr>\n      <th>4</th>\n      <td>166</td>\n      <td>65</td>\n      <td>40</td>\n    </tr>\n    <tr>\n      <th>5</th>\n      <td>190</td>\n      <td>90</td>\n      <td>47</td>\n    </tr>\n    <tr>\n      <th>6</th>\n      <td>175</td>\n      <td>64</td>\n      <td>39</td>\n    </tr>\n    <tr>\n      <th>7</th>\n      <td>171</td>\n      <td>75</td>\n      <td>42</td>\n    </tr>\n    <tr>\n      <th>8</th>\n      <td>185</td>\n      <td>85</td>\n      <td>43</td>\n    </tr>\n    <tr>\n      <th>9</th>\n      <td>169</td>\n      <td>71</td>\n      <td>42</td>\n    </tr>\n  </tbody>\n</table>\n</div>"
     },
     "metadata": {},
     "execution_count": 19
    }
   ],
   "source": [
    "x"
   ]
  },
  {
   "cell_type": "code",
   "execution_count": 26,
   "metadata": {},
   "outputs": [],
   "source": [
    "y = df.iloc[:,3]"
   ]
  },
  {
   "cell_type": "code",
   "execution_count": 27,
   "metadata": {},
   "outputs": [
    {
     "output_type": "execute_result",
     "data": {
      "text/plain": [
       "0      male\n",
       "1    female\n",
       "2    female\n",
       "3    female\n",
       "4      male\n",
       "5      male\n",
       "6      male\n",
       "7    female\n",
       "8    female\n",
       "9      male\n",
       "Name: gender, dtype: object"
      ]
     },
     "metadata": {},
     "execution_count": 27
    }
   ],
   "source": [
    "y"
   ]
  },
  {
   "cell_type": "code",
   "execution_count": 28,
   "metadata": {},
   "outputs": [],
   "source": [
    "# for make classifier\n",
    "classify_ = tree.DecisionTreeClassifier()"
   ]
  },
  {
   "cell_type": "code",
   "execution_count": 29,
   "metadata": {},
   "outputs": [],
   "source": [
    "classify_ = classify_.fit(x,y)"
   ]
  },
  {
   "cell_type": "code",
   "execution_count": 45,
   "metadata": {},
   "outputs": [
    {
     "output_type": "stream",
     "name": "stdout",
     "text": [
      "['female']\n"
     ]
    }
   ],
   "source": [
    "prediction_ = classify_.predict([[160,60,40]])\n",
    "print(prediction_)"
   ]
  },
  {
   "cell_type": "code",
   "execution_count": null,
   "metadata": {},
   "outputs": [],
   "source": []
  }
 ]
}