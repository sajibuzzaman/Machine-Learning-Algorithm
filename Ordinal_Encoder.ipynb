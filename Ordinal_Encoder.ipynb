{
 "metadata": {
  "language_info": {
   "codemirror_mode": {
    "name": "ipython",
    "version": 3
   },
   "file_extension": ".py",
   "mimetype": "text/x-python",
   "name": "python",
   "nbconvert_exporter": "python",
   "pygments_lexer": "ipython3",
   "version": "3.8.5"
  },
  "orig_nbformat": 2,
  "kernelspec": {
   "name": "python385jvsc74a57bd0775c561d6eaf07ed1348dc637b5dd63156d03542865374bbfa2f40f1f3c3dba5",
   "display_name": "Python 3.8.5 64-bit ('base': conda)"
  },
  "metadata": {
   "interpreter": {
    "hash": "775c561d6eaf07ed1348dc637b5dd63156d03542865374bbfa2f40f1f3c3dba5"
   }
  }
 },
 "nbformat": 4,
 "nbformat_minor": 2,
 "cells": [
  {
   "cell_type": "code",
   "execution_count": 71,
   "metadata": {},
   "outputs": [],
   "source": [
    "import pandas as pd\n",
    "import numpy as np"
   ]
  },
  {
   "cell_type": "code",
   "execution_count": 72,
   "metadata": {},
   "outputs": [],
   "source": [
    "df = pd.read_csv('shop data.csv')"
   ]
  },
  {
   "cell_type": "code",
   "execution_count": 73,
   "metadata": {},
   "outputs": [
    {
     "output_type": "execute_result",
     "data": {
      "text/plain": [
       "      age  income  gender m_status buys\n",
       "0     <25    high    male   single   no\n",
       "1     <25    high    male  married   no\n",
       "2   25-35    high    male   single  yes\n",
       "3     >35  medium    male   single  yes\n",
       "4     >35     low  female   single  yes\n",
       "5     >35     low  female   single   no\n",
       "6   25-35     low  female  married  yes\n",
       "7     <25  medium    male  married   no\n",
       "8     <25     low  female   single  yes\n",
       "9     >35  medium  female  married  yes\n",
       "10    <25  medium  female   single  yes\n",
       "11  25-35  medium    male  married  yes\n",
       "12  25-35    high  female   single  yes\n",
       "13    >35  medium    male  married   no\n",
       "14    <25    high    male   single   no"
      ],
      "text/html": "<div>\n<style scoped>\n    .dataframe tbody tr th:only-of-type {\n        vertical-align: middle;\n    }\n\n    .dataframe tbody tr th {\n        vertical-align: top;\n    }\n\n    .dataframe thead th {\n        text-align: right;\n    }\n</style>\n<table border=\"1\" class=\"dataframe\">\n  <thead>\n    <tr style=\"text-align: right;\">\n      <th></th>\n      <th>age</th>\n      <th>income</th>\n      <th>gender</th>\n      <th>m_status</th>\n      <th>buys</th>\n    </tr>\n  </thead>\n  <tbody>\n    <tr>\n      <th>0</th>\n      <td>&lt;25</td>\n      <td>high</td>\n      <td>male</td>\n      <td>single</td>\n      <td>no</td>\n    </tr>\n    <tr>\n      <th>1</th>\n      <td>&lt;25</td>\n      <td>high</td>\n      <td>male</td>\n      <td>married</td>\n      <td>no</td>\n    </tr>\n    <tr>\n      <th>2</th>\n      <td>25-35</td>\n      <td>high</td>\n      <td>male</td>\n      <td>single</td>\n      <td>yes</td>\n    </tr>\n    <tr>\n      <th>3</th>\n      <td>&gt;35</td>\n      <td>medium</td>\n      <td>male</td>\n      <td>single</td>\n      <td>yes</td>\n    </tr>\n    <tr>\n      <th>4</th>\n      <td>&gt;35</td>\n      <td>low</td>\n      <td>female</td>\n      <td>single</td>\n      <td>yes</td>\n    </tr>\n    <tr>\n      <th>5</th>\n      <td>&gt;35</td>\n      <td>low</td>\n      <td>female</td>\n      <td>single</td>\n      <td>no</td>\n    </tr>\n    <tr>\n      <th>6</th>\n      <td>25-35</td>\n      <td>low</td>\n      <td>female</td>\n      <td>married</td>\n      <td>yes</td>\n    </tr>\n    <tr>\n      <th>7</th>\n      <td>&lt;25</td>\n      <td>medium</td>\n      <td>male</td>\n      <td>married</td>\n      <td>no</td>\n    </tr>\n    <tr>\n      <th>8</th>\n      <td>&lt;25</td>\n      <td>low</td>\n      <td>female</td>\n      <td>single</td>\n      <td>yes</td>\n    </tr>\n    <tr>\n      <th>9</th>\n      <td>&gt;35</td>\n      <td>medium</td>\n      <td>female</td>\n      <td>married</td>\n      <td>yes</td>\n    </tr>\n    <tr>\n      <th>10</th>\n      <td>&lt;25</td>\n      <td>medium</td>\n      <td>female</td>\n      <td>single</td>\n      <td>yes</td>\n    </tr>\n    <tr>\n      <th>11</th>\n      <td>25-35</td>\n      <td>medium</td>\n      <td>male</td>\n      <td>married</td>\n      <td>yes</td>\n    </tr>\n    <tr>\n      <th>12</th>\n      <td>25-35</td>\n      <td>high</td>\n      <td>female</td>\n      <td>single</td>\n      <td>yes</td>\n    </tr>\n    <tr>\n      <th>13</th>\n      <td>&gt;35</td>\n      <td>medium</td>\n      <td>male</td>\n      <td>married</td>\n      <td>no</td>\n    </tr>\n    <tr>\n      <th>14</th>\n      <td>&lt;25</td>\n      <td>high</td>\n      <td>male</td>\n      <td>single</td>\n      <td>no</td>\n    </tr>\n  </tbody>\n</table>\n</div>"
     },
     "metadata": {},
     "execution_count": 73
    }
   ],
   "source": [
    "df"
   ]
  },
  {
   "cell_type": "code",
   "execution_count": 74,
   "metadata": {},
   "outputs": [
    {
     "output_type": "execute_result",
     "data": {
      "text/plain": [
       "array(['high', 'medium', 'low'], dtype=object)"
      ]
     },
     "metadata": {},
     "execution_count": 74
    }
   ],
   "source": [
    "df['income'].unique()"
   ]
  },
  {
   "cell_type": "code",
   "execution_count": 75,
   "metadata": {},
   "outputs": [],
   "source": [
    "income_order = ['low', 'medium', 'high']"
   ]
  },
  {
   "source": [
    "# Ordinal Encoder"
   ],
   "cell_type": "markdown",
   "metadata": {}
  },
  {
   "cell_type": "code",
   "execution_count": 76,
   "metadata": {},
   "outputs": [],
   "source": [
    "from sklearn.preprocessing import OrdinalEncoder"
   ]
  },
  {
   "cell_type": "code",
   "execution_count": 77,
   "metadata": {},
   "outputs": [],
   "source": [
    "enco = OrdinalEncoder(categories=[income_order])"
   ]
  },
  {
   "cell_type": "code",
   "execution_count": 78,
   "metadata": {},
   "outputs": [
    {
     "output_type": "execute_result",
     "data": {
      "text/plain": [
       "OrdinalEncoder(categories=[['low', 'medium', 'high']])"
      ]
     },
     "metadata": {},
     "execution_count": 78
    }
   ],
   "source": [
    "enco.fit(df[['income']])"
   ]
  },
  {
   "cell_type": "code",
   "execution_count": 79,
   "metadata": {},
   "outputs": [],
   "source": [
    "final = pd.DataFrame(enco.transform(df[['income']]))"
   ]
  },
  {
   "cell_type": "code",
   "execution_count": 80,
   "metadata": {},
   "outputs": [],
   "source": [
    "df['income'] = final"
   ]
  },
  {
   "cell_type": "code",
   "execution_count": 81,
   "metadata": {},
   "outputs": [
    {
     "output_type": "execute_result",
     "data": {
      "text/plain": [
       "      age  income  gender m_status buys\n",
       "0     <25     2.0    male   single   no\n",
       "1     <25     2.0    male  married   no\n",
       "2   25-35     2.0    male   single  yes\n",
       "3     >35     1.0    male   single  yes\n",
       "4     >35     0.0  female   single  yes\n",
       "5     >35     0.0  female   single   no\n",
       "6   25-35     0.0  female  married  yes\n",
       "7     <25     1.0    male  married   no\n",
       "8     <25     0.0  female   single  yes\n",
       "9     >35     1.0  female  married  yes\n",
       "10    <25     1.0  female   single  yes\n",
       "11  25-35     1.0    male  married  yes\n",
       "12  25-35     2.0  female   single  yes\n",
       "13    >35     1.0    male  married   no\n",
       "14    <25     2.0    male   single   no"
      ],
      "text/html": "<div>\n<style scoped>\n    .dataframe tbody tr th:only-of-type {\n        vertical-align: middle;\n    }\n\n    .dataframe tbody tr th {\n        vertical-align: top;\n    }\n\n    .dataframe thead th {\n        text-align: right;\n    }\n</style>\n<table border=\"1\" class=\"dataframe\">\n  <thead>\n    <tr style=\"text-align: right;\">\n      <th></th>\n      <th>age</th>\n      <th>income</th>\n      <th>gender</th>\n      <th>m_status</th>\n      <th>buys</th>\n    </tr>\n  </thead>\n  <tbody>\n    <tr>\n      <th>0</th>\n      <td>&lt;25</td>\n      <td>2.0</td>\n      <td>male</td>\n      <td>single</td>\n      <td>no</td>\n    </tr>\n    <tr>\n      <th>1</th>\n      <td>&lt;25</td>\n      <td>2.0</td>\n      <td>male</td>\n      <td>married</td>\n      <td>no</td>\n    </tr>\n    <tr>\n      <th>2</th>\n      <td>25-35</td>\n      <td>2.0</td>\n      <td>male</td>\n      <td>single</td>\n      <td>yes</td>\n    </tr>\n    <tr>\n      <th>3</th>\n      <td>&gt;35</td>\n      <td>1.0</td>\n      <td>male</td>\n      <td>single</td>\n      <td>yes</td>\n    </tr>\n    <tr>\n      <th>4</th>\n      <td>&gt;35</td>\n      <td>0.0</td>\n      <td>female</td>\n      <td>single</td>\n      <td>yes</td>\n    </tr>\n    <tr>\n      <th>5</th>\n      <td>&gt;35</td>\n      <td>0.0</td>\n      <td>female</td>\n      <td>single</td>\n      <td>no</td>\n    </tr>\n    <tr>\n      <th>6</th>\n      <td>25-35</td>\n      <td>0.0</td>\n      <td>female</td>\n      <td>married</td>\n      <td>yes</td>\n    </tr>\n    <tr>\n      <th>7</th>\n      <td>&lt;25</td>\n      <td>1.0</td>\n      <td>male</td>\n      <td>married</td>\n      <td>no</td>\n    </tr>\n    <tr>\n      <th>8</th>\n      <td>&lt;25</td>\n      <td>0.0</td>\n      <td>female</td>\n      <td>single</td>\n      <td>yes</td>\n    </tr>\n    <tr>\n      <th>9</th>\n      <td>&gt;35</td>\n      <td>1.0</td>\n      <td>female</td>\n      <td>married</td>\n      <td>yes</td>\n    </tr>\n    <tr>\n      <th>10</th>\n      <td>&lt;25</td>\n      <td>1.0</td>\n      <td>female</td>\n      <td>single</td>\n      <td>yes</td>\n    </tr>\n    <tr>\n      <th>11</th>\n      <td>25-35</td>\n      <td>1.0</td>\n      <td>male</td>\n      <td>married</td>\n      <td>yes</td>\n    </tr>\n    <tr>\n      <th>12</th>\n      <td>25-35</td>\n      <td>2.0</td>\n      <td>female</td>\n      <td>single</td>\n      <td>yes</td>\n    </tr>\n    <tr>\n      <th>13</th>\n      <td>&gt;35</td>\n      <td>1.0</td>\n      <td>male</td>\n      <td>married</td>\n      <td>no</td>\n    </tr>\n    <tr>\n      <th>14</th>\n      <td>&lt;25</td>\n      <td>2.0</td>\n      <td>male</td>\n      <td>single</td>\n      <td>no</td>\n    </tr>\n  </tbody>\n</table>\n</div>"
     },
     "metadata": {},
     "execution_count": 81
    }
   ],
   "source": [
    "df"
   ]
  },
  {
   "source": [
    "# Label Encoder"
   ],
   "cell_type": "markdown",
   "metadata": {}
  },
  {
   "cell_type": "code",
   "execution_count": 82,
   "metadata": {},
   "outputs": [],
   "source": [
    "from sklearn.preprocessing import LabelEncoder"
   ]
  },
  {
   "cell_type": "code",
   "execution_count": 83,
   "metadata": {},
   "outputs": [],
   "source": [
    "le = LabelEncoder()"
   ]
  },
  {
   "cell_type": "code",
   "execution_count": 84,
   "metadata": {},
   "outputs": [],
   "source": [
    "df['age'] = le.fit_transform(df['age'])"
   ]
  },
  {
   "cell_type": "code",
   "execution_count": 85,
   "metadata": {},
   "outputs": [
    {
     "output_type": "execute_result",
     "data": {
      "text/plain": [
       "    age  income  gender m_status buys\n",
       "0     1     2.0    male   single   no\n",
       "1     1     2.0    male  married   no\n",
       "2     0     2.0    male   single  yes\n",
       "3     2     1.0    male   single  yes\n",
       "4     2     0.0  female   single  yes\n",
       "5     2     0.0  female   single   no\n",
       "6     0     0.0  female  married  yes\n",
       "7     1     1.0    male  married   no\n",
       "8     1     0.0  female   single  yes\n",
       "9     2     1.0  female  married  yes\n",
       "10    1     1.0  female   single  yes\n",
       "11    0     1.0    male  married  yes\n",
       "12    0     2.0  female   single  yes\n",
       "13    2     1.0    male  married   no\n",
       "14    1     2.0    male   single   no"
      ],
      "text/html": "<div>\n<style scoped>\n    .dataframe tbody tr th:only-of-type {\n        vertical-align: middle;\n    }\n\n    .dataframe tbody tr th {\n        vertical-align: top;\n    }\n\n    .dataframe thead th {\n        text-align: right;\n    }\n</style>\n<table border=\"1\" class=\"dataframe\">\n  <thead>\n    <tr style=\"text-align: right;\">\n      <th></th>\n      <th>age</th>\n      <th>income</th>\n      <th>gender</th>\n      <th>m_status</th>\n      <th>buys</th>\n    </tr>\n  </thead>\n  <tbody>\n    <tr>\n      <th>0</th>\n      <td>1</td>\n      <td>2.0</td>\n      <td>male</td>\n      <td>single</td>\n      <td>no</td>\n    </tr>\n    <tr>\n      <th>1</th>\n      <td>1</td>\n      <td>2.0</td>\n      <td>male</td>\n      <td>married</td>\n      <td>no</td>\n    </tr>\n    <tr>\n      <th>2</th>\n      <td>0</td>\n      <td>2.0</td>\n      <td>male</td>\n      <td>single</td>\n      <td>yes</td>\n    </tr>\n    <tr>\n      <th>3</th>\n      <td>2</td>\n      <td>1.0</td>\n      <td>male</td>\n      <td>single</td>\n      <td>yes</td>\n    </tr>\n    <tr>\n      <th>4</th>\n      <td>2</td>\n      <td>0.0</td>\n      <td>female</td>\n      <td>single</td>\n      <td>yes</td>\n    </tr>\n    <tr>\n      <th>5</th>\n      <td>2</td>\n      <td>0.0</td>\n      <td>female</td>\n      <td>single</td>\n      <td>no</td>\n    </tr>\n    <tr>\n      <th>6</th>\n      <td>0</td>\n      <td>0.0</td>\n      <td>female</td>\n      <td>married</td>\n      <td>yes</td>\n    </tr>\n    <tr>\n      <th>7</th>\n      <td>1</td>\n      <td>1.0</td>\n      <td>male</td>\n      <td>married</td>\n      <td>no</td>\n    </tr>\n    <tr>\n      <th>8</th>\n      <td>1</td>\n      <td>0.0</td>\n      <td>female</td>\n      <td>single</td>\n      <td>yes</td>\n    </tr>\n    <tr>\n      <th>9</th>\n      <td>2</td>\n      <td>1.0</td>\n      <td>female</td>\n      <td>married</td>\n      <td>yes</td>\n    </tr>\n    <tr>\n      <th>10</th>\n      <td>1</td>\n      <td>1.0</td>\n      <td>female</td>\n      <td>single</td>\n      <td>yes</td>\n    </tr>\n    <tr>\n      <th>11</th>\n      <td>0</td>\n      <td>1.0</td>\n      <td>male</td>\n      <td>married</td>\n      <td>yes</td>\n    </tr>\n    <tr>\n      <th>12</th>\n      <td>0</td>\n      <td>2.0</td>\n      <td>female</td>\n      <td>single</td>\n      <td>yes</td>\n    </tr>\n    <tr>\n      <th>13</th>\n      <td>2</td>\n      <td>1.0</td>\n      <td>male</td>\n      <td>married</td>\n      <td>no</td>\n    </tr>\n    <tr>\n      <th>14</th>\n      <td>1</td>\n      <td>2.0</td>\n      <td>male</td>\n      <td>single</td>\n      <td>no</td>\n    </tr>\n  </tbody>\n</table>\n</div>"
     },
     "metadata": {},
     "execution_count": 85
    }
   ],
   "source": [
    "df"
   ]
  },
  {
   "cell_type": "code",
   "execution_count": null,
   "metadata": {},
   "outputs": [],
   "source": []
  }
 ]
}