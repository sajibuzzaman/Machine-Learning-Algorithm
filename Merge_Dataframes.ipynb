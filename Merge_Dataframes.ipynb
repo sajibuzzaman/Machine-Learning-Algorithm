{
 "metadata": {
  "language_info": {
   "codemirror_mode": {
    "name": "ipython",
    "version": 3
   },
   "file_extension": ".py",
   "mimetype": "text/x-python",
   "name": "python",
   "nbconvert_exporter": "python",
   "pygments_lexer": "ipython3",
   "version": "3.8.5"
  },
  "orig_nbformat": 2,
  "kernelspec": {
   "name": "python385jvsc74a57bd0775c561d6eaf07ed1348dc637b5dd63156d03542865374bbfa2f40f1f3c3dba5",
   "display_name": "Python 3.8.5 64-bit ('base': conda)"
  },
  "metadata": {
   "interpreter": {
    "hash": "775c561d6eaf07ed1348dc637b5dd63156d03542865374bbfa2f40f1f3c3dba5"
   }
  }
 },
 "nbformat": 4,
 "nbformat_minor": 2,
 "cells": [
  {
   "cell_type": "code",
   "execution_count": 19,
   "metadata": {},
   "outputs": [],
   "source": [
    "import pandas as pd"
   ]
  },
  {
   "cell_type": "code",
   "execution_count": 20,
   "metadata": {},
   "outputs": [],
   "source": [
    "df1 = pd.read_csv('dataset1.csv')"
   ]
  },
  {
   "cell_type": "code",
   "execution_count": 21,
   "metadata": {},
   "outputs": [
    {
     "output_type": "execute_result",
     "data": {
      "text/plain": [
       "   CustomerID  Gender  Age  Annual Income(k$)  Spending Score(1-100)\n",
       "0           1    Male   19                 15                     39\n",
       "1           2    Male   21                 15                     81\n",
       "2           3  Female   20                 16                      6\n",
       "3           4  Female   23                 16                     77\n",
       "4           5  Female   31                 17                     40\n",
       "5           6  Female   22                 17                     76\n",
       "6           7  Female   35                 18                      6\n",
       "7           8  Female   23                 18                     94\n",
       "8           9    Male   64                 19                      3\n",
       "9          10  Female   30                 19                     72"
      ],
      "text/html": "<div>\n<style scoped>\n    .dataframe tbody tr th:only-of-type {\n        vertical-align: middle;\n    }\n\n    .dataframe tbody tr th {\n        vertical-align: top;\n    }\n\n    .dataframe thead th {\n        text-align: right;\n    }\n</style>\n<table border=\"1\" class=\"dataframe\">\n  <thead>\n    <tr style=\"text-align: right;\">\n      <th></th>\n      <th>CustomerID</th>\n      <th>Gender</th>\n      <th>Age</th>\n      <th>Annual Income(k$)</th>\n      <th>Spending Score(1-100)</th>\n    </tr>\n  </thead>\n  <tbody>\n    <tr>\n      <th>0</th>\n      <td>1</td>\n      <td>Male</td>\n      <td>19</td>\n      <td>15</td>\n      <td>39</td>\n    </tr>\n    <tr>\n      <th>1</th>\n      <td>2</td>\n      <td>Male</td>\n      <td>21</td>\n      <td>15</td>\n      <td>81</td>\n    </tr>\n    <tr>\n      <th>2</th>\n      <td>3</td>\n      <td>Female</td>\n      <td>20</td>\n      <td>16</td>\n      <td>6</td>\n    </tr>\n    <tr>\n      <th>3</th>\n      <td>4</td>\n      <td>Female</td>\n      <td>23</td>\n      <td>16</td>\n      <td>77</td>\n    </tr>\n    <tr>\n      <th>4</th>\n      <td>5</td>\n      <td>Female</td>\n      <td>31</td>\n      <td>17</td>\n      <td>40</td>\n    </tr>\n    <tr>\n      <th>5</th>\n      <td>6</td>\n      <td>Female</td>\n      <td>22</td>\n      <td>17</td>\n      <td>76</td>\n    </tr>\n    <tr>\n      <th>6</th>\n      <td>7</td>\n      <td>Female</td>\n      <td>35</td>\n      <td>18</td>\n      <td>6</td>\n    </tr>\n    <tr>\n      <th>7</th>\n      <td>8</td>\n      <td>Female</td>\n      <td>23</td>\n      <td>18</td>\n      <td>94</td>\n    </tr>\n    <tr>\n      <th>8</th>\n      <td>9</td>\n      <td>Male</td>\n      <td>64</td>\n      <td>19</td>\n      <td>3</td>\n    </tr>\n    <tr>\n      <th>9</th>\n      <td>10</td>\n      <td>Female</td>\n      <td>30</td>\n      <td>19</td>\n      <td>72</td>\n    </tr>\n  </tbody>\n</table>\n</div>"
     },
     "metadata": {},
     "execution_count": 21
    }
   ],
   "source": [
    "df1"
   ]
  },
  {
   "cell_type": "code",
   "execution_count": 22,
   "metadata": {},
   "outputs": [],
   "source": [
    "df2 = pd.read_csv('dataset2.csv')"
   ]
  },
  {
   "cell_type": "code",
   "execution_count": 23,
   "metadata": {},
   "outputs": [
    {
     "output_type": "execute_result",
     "data": {
      "text/plain": [
       "    CustomerID        Area\n",
       "0            1       Dhaka\n",
       "1            2    Rajshahi\n",
       "2            3     Rangpur\n",
       "3            4      Khulna\n",
       "4            5       Dhaka\n",
       "5            6      Khulna\n",
       "6            7       Dhaka\n",
       "7            8     Rangpur\n",
       "8            9     Rangpur\n",
       "9           10       Dhaka\n",
       "10          11  Chittagong"
      ],
      "text/html": "<div>\n<style scoped>\n    .dataframe tbody tr th:only-of-type {\n        vertical-align: middle;\n    }\n\n    .dataframe tbody tr th {\n        vertical-align: top;\n    }\n\n    .dataframe thead th {\n        text-align: right;\n    }\n</style>\n<table border=\"1\" class=\"dataframe\">\n  <thead>\n    <tr style=\"text-align: right;\">\n      <th></th>\n      <th>CustomerID</th>\n      <th>Area</th>\n    </tr>\n  </thead>\n  <tbody>\n    <tr>\n      <th>0</th>\n      <td>1</td>\n      <td>Dhaka</td>\n    </tr>\n    <tr>\n      <th>1</th>\n      <td>2</td>\n      <td>Rajshahi</td>\n    </tr>\n    <tr>\n      <th>2</th>\n      <td>3</td>\n      <td>Rangpur</td>\n    </tr>\n    <tr>\n      <th>3</th>\n      <td>4</td>\n      <td>Khulna</td>\n    </tr>\n    <tr>\n      <th>4</th>\n      <td>5</td>\n      <td>Dhaka</td>\n    </tr>\n    <tr>\n      <th>5</th>\n      <td>6</td>\n      <td>Khulna</td>\n    </tr>\n    <tr>\n      <th>6</th>\n      <td>7</td>\n      <td>Dhaka</td>\n    </tr>\n    <tr>\n      <th>7</th>\n      <td>8</td>\n      <td>Rangpur</td>\n    </tr>\n    <tr>\n      <th>8</th>\n      <td>9</td>\n      <td>Rangpur</td>\n    </tr>\n    <tr>\n      <th>9</th>\n      <td>10</td>\n      <td>Dhaka</td>\n    </tr>\n    <tr>\n      <th>10</th>\n      <td>11</td>\n      <td>Chittagong</td>\n    </tr>\n  </tbody>\n</table>\n</div>"
     },
     "metadata": {},
     "execution_count": 23
    }
   ],
   "source": [
    "df2"
   ]
  },
  {
   "cell_type": "code",
   "execution_count": 30,
   "metadata": {},
   "outputs": [],
   "source": [
    "# for merging here initailly how='inner' for union, but we can change how='outer for Intersection, how='left' for left side value priority, 'right' for right side. indicator=True for _merge column\n",
    "df3 = pd.merge(df1,df2, on='CustomerID', how='outer', indicator=True)"
   ]
  },
  {
   "cell_type": "code",
   "execution_count": 31,
   "metadata": {},
   "outputs": [
    {
     "output_type": "execute_result",
     "data": {
      "text/plain": [
       "    CustomerID  Gender   Age  Annual Income(k$)  Spending Score(1-100)  \\\n",
       "0            1    Male  19.0               15.0                   39.0   \n",
       "1            2    Male  21.0               15.0                   81.0   \n",
       "2            3  Female  20.0               16.0                    6.0   \n",
       "3            4  Female  23.0               16.0                   77.0   \n",
       "4            5  Female  31.0               17.0                   40.0   \n",
       "5            6  Female  22.0               17.0                   76.0   \n",
       "6            7  Female  35.0               18.0                    6.0   \n",
       "7            8  Female  23.0               18.0                   94.0   \n",
       "8            9    Male  64.0               19.0                    3.0   \n",
       "9           10  Female  30.0               19.0                   72.0   \n",
       "10          11     NaN   NaN                NaN                    NaN   \n",
       "\n",
       "          Area      _merge  \n",
       "0        Dhaka        both  \n",
       "1     Rajshahi        both  \n",
       "2      Rangpur        both  \n",
       "3       Khulna        both  \n",
       "4        Dhaka        both  \n",
       "5       Khulna        both  \n",
       "6        Dhaka        both  \n",
       "7      Rangpur        both  \n",
       "8      Rangpur        both  \n",
       "9        Dhaka        both  \n",
       "10  Chittagong  right_only  "
      ],
      "text/html": "<div>\n<style scoped>\n    .dataframe tbody tr th:only-of-type {\n        vertical-align: middle;\n    }\n\n    .dataframe tbody tr th {\n        vertical-align: top;\n    }\n\n    .dataframe thead th {\n        text-align: right;\n    }\n</style>\n<table border=\"1\" class=\"dataframe\">\n  <thead>\n    <tr style=\"text-align: right;\">\n      <th></th>\n      <th>CustomerID</th>\n      <th>Gender</th>\n      <th>Age</th>\n      <th>Annual Income(k$)</th>\n      <th>Spending Score(1-100)</th>\n      <th>Area</th>\n      <th>_merge</th>\n    </tr>\n  </thead>\n  <tbody>\n    <tr>\n      <th>0</th>\n      <td>1</td>\n      <td>Male</td>\n      <td>19.0</td>\n      <td>15.0</td>\n      <td>39.0</td>\n      <td>Dhaka</td>\n      <td>both</td>\n    </tr>\n    <tr>\n      <th>1</th>\n      <td>2</td>\n      <td>Male</td>\n      <td>21.0</td>\n      <td>15.0</td>\n      <td>81.0</td>\n      <td>Rajshahi</td>\n      <td>both</td>\n    </tr>\n    <tr>\n      <th>2</th>\n      <td>3</td>\n      <td>Female</td>\n      <td>20.0</td>\n      <td>16.0</td>\n      <td>6.0</td>\n      <td>Rangpur</td>\n      <td>both</td>\n    </tr>\n    <tr>\n      <th>3</th>\n      <td>4</td>\n      <td>Female</td>\n      <td>23.0</td>\n      <td>16.0</td>\n      <td>77.0</td>\n      <td>Khulna</td>\n      <td>both</td>\n    </tr>\n    <tr>\n      <th>4</th>\n      <td>5</td>\n      <td>Female</td>\n      <td>31.0</td>\n      <td>17.0</td>\n      <td>40.0</td>\n      <td>Dhaka</td>\n      <td>both</td>\n    </tr>\n    <tr>\n      <th>5</th>\n      <td>6</td>\n      <td>Female</td>\n      <td>22.0</td>\n      <td>17.0</td>\n      <td>76.0</td>\n      <td>Khulna</td>\n      <td>both</td>\n    </tr>\n    <tr>\n      <th>6</th>\n      <td>7</td>\n      <td>Female</td>\n      <td>35.0</td>\n      <td>18.0</td>\n      <td>6.0</td>\n      <td>Dhaka</td>\n      <td>both</td>\n    </tr>\n    <tr>\n      <th>7</th>\n      <td>8</td>\n      <td>Female</td>\n      <td>23.0</td>\n      <td>18.0</td>\n      <td>94.0</td>\n      <td>Rangpur</td>\n      <td>both</td>\n    </tr>\n    <tr>\n      <th>8</th>\n      <td>9</td>\n      <td>Male</td>\n      <td>64.0</td>\n      <td>19.0</td>\n      <td>3.0</td>\n      <td>Rangpur</td>\n      <td>both</td>\n    </tr>\n    <tr>\n      <th>9</th>\n      <td>10</td>\n      <td>Female</td>\n      <td>30.0</td>\n      <td>19.0</td>\n      <td>72.0</td>\n      <td>Dhaka</td>\n      <td>both</td>\n    </tr>\n    <tr>\n      <th>10</th>\n      <td>11</td>\n      <td>NaN</td>\n      <td>NaN</td>\n      <td>NaN</td>\n      <td>NaN</td>\n      <td>Chittagong</td>\n      <td>right_only</td>\n    </tr>\n  </tbody>\n</table>\n</div>"
     },
     "metadata": {},
     "execution_count": 31
    }
   ],
   "source": [
    "df3"
   ]
  },
  {
   "cell_type": "code",
   "execution_count": null,
   "metadata": {},
   "outputs": [],
   "source": []
  }
 ]
}