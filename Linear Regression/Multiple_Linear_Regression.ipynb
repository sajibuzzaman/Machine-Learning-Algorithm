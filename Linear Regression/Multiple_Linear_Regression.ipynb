{
 "cells": [
  {
   "cell_type": "code",
   "execution_count": 8,
   "metadata": {},
   "outputs": [],
   "source": [
    "# importing library\n",
    "import numpy as np\n",
    "import pandas as pd\n",
    "from sklearn import linear_model"
   ]
  },
  {
   "cell_type": "code",
   "execution_count": 9,
   "metadata": {},
   "outputs": [],
   "source": [
    "df = pd.read_csv('car data.csv')"
   ]
  },
  {
   "cell_type": "code",
   "execution_count": 10,
   "metadata": {},
   "outputs": [
    {
     "output_type": "execute_result",
     "data": {
      "text/plain": [
       "   speed  car_age  experiance  risk\n",
       "0     20       15         5.0    85\n",
       "1     90       17        13.0    20\n",
       "2    165       12         4.0    93\n",
       "3    110       20         NaN    60\n",
       "4    140        5         3.0    82\n",
       "5    115        2         8.0    10"
      ],
      "text/html": "<div>\n<style scoped>\n    .dataframe tbody tr th:only-of-type {\n        vertical-align: middle;\n    }\n\n    .dataframe tbody tr th {\n        vertical-align: top;\n    }\n\n    .dataframe thead th {\n        text-align: right;\n    }\n</style>\n<table border=\"1\" class=\"dataframe\">\n  <thead>\n    <tr style=\"text-align: right;\">\n      <th></th>\n      <th>speed</th>\n      <th>car_age</th>\n      <th>experiance</th>\n      <th>risk</th>\n    </tr>\n  </thead>\n  <tbody>\n    <tr>\n      <th>0</th>\n      <td>20</td>\n      <td>15</td>\n      <td>5.0</td>\n      <td>85</td>\n    </tr>\n    <tr>\n      <th>1</th>\n      <td>90</td>\n      <td>17</td>\n      <td>13.0</td>\n      <td>20</td>\n    </tr>\n    <tr>\n      <th>2</th>\n      <td>165</td>\n      <td>12</td>\n      <td>4.0</td>\n      <td>93</td>\n    </tr>\n    <tr>\n      <th>3</th>\n      <td>110</td>\n      <td>20</td>\n      <td>NaN</td>\n      <td>60</td>\n    </tr>\n    <tr>\n      <th>4</th>\n      <td>140</td>\n      <td>5</td>\n      <td>3.0</td>\n      <td>82</td>\n    </tr>\n    <tr>\n      <th>5</th>\n      <td>115</td>\n      <td>2</td>\n      <td>8.0</td>\n      <td>10</td>\n    </tr>\n  </tbody>\n</table>\n</div>"
     },
     "metadata": {},
     "execution_count": 10
    }
   ],
   "source": [
    "df"
   ]
  },
  {
   "cell_type": "code",
   "execution_count": 11,
   "metadata": {},
   "outputs": [],
   "source": [
    "#  for median of experiance\n",
    "exp_fit = df.experiance.median()"
   ]
  },
  {
   "cell_type": "code",
   "execution_count": 12,
   "metadata": {},
   "outputs": [],
   "source": [
    "# for null value fill\n",
    "df.experiance = df.experiance.fillna(exp_fit)"
   ]
  },
  {
   "cell_type": "code",
   "execution_count": 13,
   "metadata": {},
   "outputs": [
    {
     "output_type": "stream",
     "name": "stdout",
     "text": [
      "0     5.0\n1    13.0\n2     4.0\n3     5.0\n4     3.0\n5     8.0\nName: experiance, dtype: float64\n"
     ]
    }
   ],
   "source": [
    "print (df.experiance)"
   ]
  },
  {
   "cell_type": "code",
   "execution_count": 14,
   "metadata": {},
   "outputs": [],
   "source": [
    "x = df[['speed', 'car_age', 'experiance']]\n",
    "y = df['risk']"
   ]
  },
  {
   "cell_type": "code",
   "execution_count": 15,
   "metadata": {},
   "outputs": [
    {
     "output_type": "execute_result",
     "data": {
      "text/plain": [
       "   speed  car_age  experiance\n",
       "0     20       15         5.0\n",
       "1     90       17        13.0\n",
       "2    165       12         4.0\n",
       "3    110       20         5.0\n",
       "4    140        5         3.0\n",
       "5    115        2         8.0"
      ],
      "text/html": "<div>\n<style scoped>\n    .dataframe tbody tr th:only-of-type {\n        vertical-align: middle;\n    }\n\n    .dataframe tbody tr th {\n        vertical-align: top;\n    }\n\n    .dataframe thead th {\n        text-align: right;\n    }\n</style>\n<table border=\"1\" class=\"dataframe\">\n  <thead>\n    <tr style=\"text-align: right;\">\n      <th></th>\n      <th>speed</th>\n      <th>car_age</th>\n      <th>experiance</th>\n    </tr>\n  </thead>\n  <tbody>\n    <tr>\n      <th>0</th>\n      <td>20</td>\n      <td>15</td>\n      <td>5.0</td>\n    </tr>\n    <tr>\n      <th>1</th>\n      <td>90</td>\n      <td>17</td>\n      <td>13.0</td>\n    </tr>\n    <tr>\n      <th>2</th>\n      <td>165</td>\n      <td>12</td>\n      <td>4.0</td>\n    </tr>\n    <tr>\n      <th>3</th>\n      <td>110</td>\n      <td>20</td>\n      <td>5.0</td>\n    </tr>\n    <tr>\n      <th>4</th>\n      <td>140</td>\n      <td>5</td>\n      <td>3.0</td>\n    </tr>\n    <tr>\n      <th>5</th>\n      <td>115</td>\n      <td>2</td>\n      <td>8.0</td>\n    </tr>\n  </tbody>\n</table>\n</div>"
     },
     "metadata": {},
     "execution_count": 15
    }
   ],
   "source": [
    "x"
   ]
  },
  {
   "cell_type": "code",
   "execution_count": 16,
   "metadata": {},
   "outputs": [],
   "source": [
    "from sklearn.model_selection import train_test_split "
   ]
  },
  {
   "cell_type": "code",
   "execution_count": 17,
   "metadata": {},
   "outputs": [],
   "source": [
    "xtrain, xtest, ytrain, ytest = train_test_split(x, y, test_size=.30, random_state=1)"
   ]
  },
  {
   "cell_type": "code",
   "execution_count": 18,
   "metadata": {},
   "outputs": [
    {
     "output_type": "execute_result",
     "data": {
      "text/plain": [
       "   speed  car_age  experiance\n",
       "4    140        5         3.0\n",
       "0     20       15         5.0\n",
       "3    110       20         5.0\n",
       "5    115        2         8.0"
      ],
      "text/html": "<div>\n<style scoped>\n    .dataframe tbody tr th:only-of-type {\n        vertical-align: middle;\n    }\n\n    .dataframe tbody tr th {\n        vertical-align: top;\n    }\n\n    .dataframe thead th {\n        text-align: right;\n    }\n</style>\n<table border=\"1\" class=\"dataframe\">\n  <thead>\n    <tr style=\"text-align: right;\">\n      <th></th>\n      <th>speed</th>\n      <th>car_age</th>\n      <th>experiance</th>\n    </tr>\n  </thead>\n  <tbody>\n    <tr>\n      <th>4</th>\n      <td>140</td>\n      <td>5</td>\n      <td>3.0</td>\n    </tr>\n    <tr>\n      <th>0</th>\n      <td>20</td>\n      <td>15</td>\n      <td>5.0</td>\n    </tr>\n    <tr>\n      <th>3</th>\n      <td>110</td>\n      <td>20</td>\n      <td>5.0</td>\n    </tr>\n    <tr>\n      <th>5</th>\n      <td>115</td>\n      <td>2</td>\n      <td>8.0</td>\n    </tr>\n  </tbody>\n</table>\n</div>"
     },
     "metadata": {},
     "execution_count": 18
    }
   ],
   "source": [
    "xtrain"
   ]
  },
  {
   "cell_type": "code",
   "execution_count": 19,
   "metadata": {},
   "outputs": [
    {
     "output_type": "execute_result",
     "data": {
      "text/plain": [
       "   speed  car_age  experiance\n",
       "2    165       12         4.0\n",
       "1     90       17        13.0"
      ],
      "text/html": "<div>\n<style scoped>\n    .dataframe tbody tr th:only-of-type {\n        vertical-align: middle;\n    }\n\n    .dataframe tbody tr th {\n        vertical-align: top;\n    }\n\n    .dataframe thead th {\n        text-align: right;\n    }\n</style>\n<table border=\"1\" class=\"dataframe\">\n  <thead>\n    <tr style=\"text-align: right;\">\n      <th></th>\n      <th>speed</th>\n      <th>car_age</th>\n      <th>experiance</th>\n    </tr>\n  </thead>\n  <tbody>\n    <tr>\n      <th>2</th>\n      <td>165</td>\n      <td>12</td>\n      <td>4.0</td>\n    </tr>\n    <tr>\n      <th>1</th>\n      <td>90</td>\n      <td>17</td>\n      <td>13.0</td>\n    </tr>\n  </tbody>\n</table>\n</div>"
     },
     "metadata": {},
     "execution_count": 19
    }
   ],
   "source": [
    "xtest"
   ]
  },
  {
   "cell_type": "code",
   "execution_count": 21,
   "metadata": {},
   "outputs": [],
   "source": [
    "reg = linear_model.LinearRegression()"
   ]
  },
  {
   "cell_type": "code",
   "execution_count": 22,
   "metadata": {},
   "outputs": [
    {
     "output_type": "execute_result",
     "data": {
      "text/plain": [
       "LinearRegression()"
      ]
     },
     "metadata": {},
     "execution_count": 22
    }
   ],
   "source": [
    "reg.fit(xtrain, ytrain)"
   ]
  },
  {
   "cell_type": "code",
   "execution_count": 24,
   "metadata": {},
   "outputs": [
    {
     "output_type": "execute_result",
     "data": {
      "text/plain": [
       "array([ 59.69319641, -60.70603338])"
      ]
     },
     "metadata": {},
     "execution_count": 24
    }
   ],
   "source": [
    "reg.predict(xtest)"
   ]
  },
  {
   "cell_type": "code",
   "execution_count": 25,
   "metadata": {},
   "outputs": [
    {
     "output_type": "stream",
     "name": "stdout",
     "text": [
      "2    93\n1    20\nName: risk, dtype: int64\n"
     ]
    }
   ],
   "source": [
    "print(ytest)"
   ]
  },
  {
   "cell_type": "code",
   "execution_count": 26,
   "metadata": {},
   "outputs": [
    {
     "output_type": "stream",
     "name": "stdout",
     "text": [
      "-186.0877083498083 %\n"
     ]
    }
   ],
   "source": [
    "accuracy = reg.score(xtest,ytest)\n",
    "print(accuracy*100, '%')"
   ]
  },
  {
   "cell_type": "code",
   "execution_count": 27,
   "metadata": {},
   "outputs": [
    {
     "output_type": "execute_result",
     "data": {
      "text/plain": [
       "array([-0.01374367,  1.73880145, -8.62757169])"
      ]
     },
     "metadata": {},
     "execution_count": 27
    }
   ],
   "source": [
    "reg.coef_"
   ]
  },
  {
   "cell_type": "code",
   "execution_count": 28,
   "metadata": {},
   "outputs": [
    {
     "output_type": "execute_result",
     "data": {
      "text/plain": [
       "93.86479530963929"
      ]
     },
     "metadata": {},
     "execution_count": 28
    }
   ],
   "source": [
    "reg.intercept_"
   ]
  },
  {
   "cell_type": "code",
   "execution_count": 30,
   "metadata": {},
   "outputs": [
    {
     "output_type": "stream",
     "name": "stdout",
     "text": [
      "65.91596415963929\n"
     ]
    }
   ],
   "source": [
    "y = (-0.01374367*160)+(1.73880145*10)+(-8.62757169*5) + 93.86479530963929\n",
    "print(y)"
   ]
  },
  {
   "cell_type": "code",
   "execution_count": null,
   "metadata": {},
   "outputs": [],
   "source": []
  }
 ],
 "metadata": {
  "kernelspec": {
   "name": "python385jvsc74a57bd0775c561d6eaf07ed1348dc637b5dd63156d03542865374bbfa2f40f1f3c3dba5",
   "display_name": "Python 3.8.5 64-bit ('base': conda)"
  },
  "language_info": {
   "codemirror_mode": {
    "name": "ipython",
    "version": 3
   },
   "file_extension": ".py",
   "mimetype": "text/x-python",
   "name": "python",
   "nbconvert_exporter": "python",
   "pygments_lexer": "ipython3",
   "version": "3.8.5"
  },
  "metadata": {
   "interpreter": {
    "hash": "775c561d6eaf07ed1348dc637b5dd63156d03542865374bbfa2f40f1f3c3dba5"
   }
  }
 },
 "nbformat": 4,
 "nbformat_minor": 4
}